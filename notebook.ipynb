{
 "cells": [
  {
   "cell_type": "code",
   "execution_count": 1,
   "metadata": {},
   "outputs": [],
   "source": [
    "import cv2\n",
    "from tesserocr import PyTessBaseAPI\n",
    "import numpy as np\n",
    "from PIL import Image\n",
    "import os"
   ]
  },
  {
   "cell_type": "code",
   "execution_count": 2,
   "metadata": {},
   "outputs": [
    {
     "name": "stdout",
     "output_type": "stream",
     "text": [
      "CPU times: user 8.11 s, sys: 1.82 s, total: 9.93 s\n",
      "Wall time: 12min 26s\n"
     ]
    }
   ],
   "source": [
    "%%time\n",
    "\n",
    "# convert pdf to images\n",
    "!pdftoppm arnabWA.pdf images/arnableaks -png"
   ]
  },
  {
   "cell_type": "code",
   "execution_count": 3,
   "metadata": {},
   "outputs": [],
   "source": [
    "def img_process(img):\n",
    "    \n",
    "    \"\"\"\n",
    "    image binarisation, see:-\n",
    "    \n",
    "    https://opencv-python-tutroals.readthedocs.io/en/latest/py_tutorials/py_imgproc/py_thresholding/py_thresholding.html\n",
    "    \"\"\"\n",
    "    \n",
    "    #grayscale\n",
    "    gray =  cv2.cvtColor(img, cv2.COLOR_BGR2GRAY)\n",
    "\n",
    "    \n",
    "    # Otsu's thresholding after Gaussian filtering\n",
    "    blur = cv2.GaussianBlur(gray,(5,5),0)\n",
    "    ret3,th3 = cv2.threshold(blur,0,255,cv2.THRESH_BINARY+cv2.THRESH_OTSU)\n",
    "    \n",
    "    return th3\n"
   ]
  },
  {
   "cell_type": "code",
   "execution_count": 4,
   "metadata": {},
   "outputs": [
    {
     "data": {
      "text/plain": [
       "['arnableaks-001.png',\n",
       " 'arnableaks-002.png',\n",
       " 'arnableaks-003.png',\n",
       " 'arnableaks-004.png',\n",
       " 'arnableaks-005.png']"
      ]
     },
     "execution_count": 4,
     "metadata": {},
     "output_type": "execute_result"
    }
   ],
   "source": [
    "# read file names and sort them\n",
    "fnames = sorted(os.listdir(\"images/\"))\n",
    "fnames[0:5]"
   ]
  },
  {
   "cell_type": "code",
   "execution_count": 11,
   "metadata": {},
   "outputs": [
    {
     "name": "stdout",
     "output_type": "stream",
     "text": [
      "CPU times: user 1h 9min 52s, sys: 1min 10s, total: 1h 11min 2s\n",
      "Wall time: 23min 54s\n"
     ]
    }
   ],
   "source": [
    "%%time\n",
    "\n",
    "api = PyTessBaseAPI(psm=6)\n",
    "txt = \"\"\n",
    "\n",
    "# ignore the first pdf page\n",
    "for fname in fnames[1:]:\n",
    "    \n",
    "    txt += f\"page number: {fname[11:14]}\\n\"\n",
    "    \n",
    "    raw = cv2.imread(f\"images/{fname}\")\n",
    "    \n",
    "    binary = img_process(raw)\n",
    "    img = Image.fromarray(binary)\n",
    "    \n",
    "    api.SetImage(img)\n",
    "    txt += api.GetUTF8Text()\n",
    "    txt += f\"\\n\\n\"\n"
   ]
  },
  {
   "cell_type": "code",
   "execution_count": 12,
   "metadata": {},
   "outputs": [],
   "source": [
    "with open(\"arnabWA.txt\", \"w\") as f:\n",
    "    f.write(txt)"
   ]
  },
  {
   "cell_type": "code",
   "execution_count": null,
   "metadata": {},
   "outputs": [],
   "source": []
  }
 ],
 "metadata": {
  "kernelspec": {
   "display_name": "hgs",
   "language": "python",
   "name": "hgs"
  },
  "language_info": {
   "codemirror_mode": {
    "name": "ipython",
    "version": 3
   },
   "file_extension": ".py",
   "mimetype": "text/x-python",
   "name": "python",
   "nbconvert_exporter": "python",
   "pygments_lexer": "ipython3",
   "version": "3.8.5"
  }
 },
 "nbformat": 4,
 "nbformat_minor": 4
}
